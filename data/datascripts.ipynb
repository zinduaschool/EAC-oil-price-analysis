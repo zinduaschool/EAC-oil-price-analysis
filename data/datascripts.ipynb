{
 "cells": [
  {
   "cell_type": "markdown",
   "metadata": {},
   "source": [
    "# Data Collection Scripts"
   ]
  },
  {
   "cell_type": "code",
   "execution_count": 73,
   "metadata": {},
   "outputs": [],
   "source": [
    "import ssl\n",
    "import pandas as pd\n",
    "from tabula.io import read_pdf\n",
    "import matplotlib.pyplot as plt"
   ]
  },
  {
   "cell_type": "markdown",
   "metadata": {},
   "source": [
    "## Kenyan Data Cleaning\n",
    "Outpiting CSV files for Kenyan cleaned data as it was initially collected from [Kenya's Energy and Petroleum Regulation Authority (EPRA)](https://www.epra.go.ke/services/petroleum/petroleum-prices/)."
   ]
  },
  {
   "cell_type": "code",
   "execution_count": 25,
   "metadata": {},
   "outputs": [
    {
     "data": {
      "text/html": [
       "<div>\n",
       "<style scoped>\n",
       "    .dataframe tbody tr th:only-of-type {\n",
       "        vertical-align: middle;\n",
       "    }\n",
       "\n",
       "    .dataframe tbody tr th {\n",
       "        vertical-align: top;\n",
       "    }\n",
       "\n",
       "    .dataframe thead th {\n",
       "        text-align: right;\n",
       "    }\n",
       "</style>\n",
       "<table border=\"1\" class=\"dataframe\">\n",
       "  <thead>\n",
       "    <tr style=\"text-align: right;\">\n",
       "      <th></th>\n",
       "      <th>start_date</th>\n",
       "      <th>end_date</th>\n",
       "      <th>town</th>\n",
       "      <th>super_petrol</th>\n",
       "      <th>diesel</th>\n",
       "      <th>kerosene</th>\n",
       "    </tr>\n",
       "  </thead>\n",
       "  <tbody>\n",
       "    <tr>\n",
       "      <th>0</th>\n",
       "      <td>15/07/2023</td>\n",
       "      <td>14/08/2023</td>\n",
       "      <td>Mombasa</td>\n",
       "      <td>191.62</td>\n",
       "      <td>176.63</td>\n",
       "      <td>166.43</td>\n",
       "    </tr>\n",
       "    <tr>\n",
       "      <th>1</th>\n",
       "      <td>15/07/2023</td>\n",
       "      <td>14/08/2023</td>\n",
       "      <td>Kilifi</td>\n",
       "      <td>192.39</td>\n",
       "      <td>177.40</td>\n",
       "      <td>167.19</td>\n",
       "    </tr>\n",
       "    <tr>\n",
       "      <th>2</th>\n",
       "      <td>15/07/2023</td>\n",
       "      <td>14/08/2023</td>\n",
       "      <td>Likoni Mainland</td>\n",
       "      <td>192.00</td>\n",
       "      <td>177.02</td>\n",
       "      <td>166.81</td>\n",
       "    </tr>\n",
       "    <tr>\n",
       "      <th>3</th>\n",
       "      <td>15/07/2023</td>\n",
       "      <td>14/08/2023</td>\n",
       "      <td>Kwale</td>\n",
       "      <td>192.00</td>\n",
       "      <td>177.02</td>\n",
       "      <td>166.81</td>\n",
       "    </tr>\n",
       "    <tr>\n",
       "      <th>4</th>\n",
       "      <td>15/07/2023</td>\n",
       "      <td>14/08/2023</td>\n",
       "      <td>Malindi</td>\n",
       "      <td>192.62</td>\n",
       "      <td>177.62</td>\n",
       "      <td>167.41</td>\n",
       "    </tr>\n",
       "  </tbody>\n",
       "</table>\n",
       "</div>"
      ],
      "text/plain": [
       "   start_date    end_date             town  super_petrol  diesel  kerosene\n",
       "0  15/07/2023  14/08/2023          Mombasa        191.62  176.63    166.43\n",
       "1  15/07/2023  14/08/2023           Kilifi        192.39  177.40    167.19\n",
       "2  15/07/2023  14/08/2023  Likoni Mainland        192.00  177.02    166.81\n",
       "3  15/07/2023  14/08/2023            Kwale        192.00  177.02    166.81\n",
       "4  15/07/2023  14/08/2023          Malindi        192.62  177.62    167.41"
      ]
     },
     "execution_count": 25,
     "metadata": {},
     "output_type": "execute_result"
    }
   ],
   "source": [
    "kenya_df = pd.read_csv('kenya_consolidated.csv')\n",
    "kenya_df.head()"
   ]
  },
  {
   "cell_type": "code",
   "execution_count": 26,
   "metadata": {},
   "outputs": [
    {
     "name": "stdout",
     "output_type": "stream",
     "text": [
      "<class 'pandas.core.frame.DataFrame'>\n",
      "RangeIndex: 3531 entries, 0 to 3530\n",
      "Data columns (total 6 columns):\n",
      " #   Column        Non-Null Count  Dtype  \n",
      "---  ------        --------------  -----  \n",
      " 0   start_date    3531 non-null   object \n",
      " 1   end_date      3531 non-null   object \n",
      " 2   town          3531 non-null   object \n",
      " 3   super_petrol  3531 non-null   float64\n",
      " 4   diesel        3531 non-null   float64\n",
      " 5   kerosene      3531 non-null   float64\n",
      "dtypes: float64(3), object(3)\n",
      "memory usage: 165.6+ KB\n"
     ]
    }
   ],
   "source": [
    "kenya_df.info()"
   ]
  },
  {
   "cell_type": "code",
   "execution_count": 27,
   "metadata": {},
   "outputs": [
    {
     "name": "stdout",
     "output_type": "stream",
     "text": [
      "Start Dates:  ['15/07/2023' '15/06/2023' '15/04/2023' '15/01/2023' '15/12/2022'\n",
      " '15/11/2022' '15/10/2022' '15/09/2022' '15/08/2022' '15/07/2022'\n",
      " '15/06/2022' '15/05/2022' '15/04/2022' '15/03/2022' '15/02/2022'\n",
      " '15/01/2022' '15/11/2021'] (17,) \n",
      " End Dates:  ['14/08/2023' '14/07/2023' '14/05/2023' '14/02/2023' '14/01/2023'\n",
      " '14/12/2022' '14/11/2022' '14/10/2022' '14/09/2022' '14/08/2022'\n",
      " '14/07/2022' '14/06/2022' '14/05/2022' '14/04/2022' '14/03/2022'\n",
      " '14/02/2022' '14/12/2021'] (17,)\n"
     ]
    }
   ],
   "source": [
    "## See the unique start dates and end dates (They should be have same unique values)\n",
    "start_dates = kenya_df.start_date.unique()\n",
    "end_dates = kenya_df.end_date.unique()\n",
    "print(\"Start Dates: \", start_dates,start_dates.shape, \"\\n End Dates: \", end_dates, end_dates.shape)"
   ]
  },
  {
   "cell_type": "code",
   "execution_count": 41,
   "metadata": {},
   "outputs": [],
   "source": [
    "# Separate data by start date and save data in different CSV files named by the date\n",
    "for date in start_dates:\n",
    "    df = kenya_df[kenya_df.start_date == date]\n",
    "    fname = \"kenya_\"+ date[-4:] + \"_\" + date[3:5] + \"_\" + date[:2] + \".csv\" #Format file name: kenya_year_month_day.csv\n",
    "    df.to_csv(fname)"
   ]
  },
  {
   "cell_type": "markdown",
   "metadata": {},
   "source": [
    "You can now access the Kenyan data files based on their dates (As available through EPRA), or you can access all the data available from EPRA through the file `kenya_consolidated.csv`."
   ]
  },
  {
   "cell_type": "markdown",
   "metadata": {},
   "source": [
    "## Tanzania Data Collection\n",
    "Tanzanian data from the [Energy and Water Utilities Authority (EWURA)](https://www.ewura.go.tz/fuel-prices/) was only available in PDF format. Below we'll design scripts to seamlessly extract data from the PDF documents into CSV files.\n",
    "If there's an issue with the Java Environment, install `temurin`. In Mac/Linux, this can be done with `brew install temurin`"
   ]
  },
  {
   "cell_type": "code",
   "execution_count": 75,
   "metadata": {},
   "outputs": [
    {
     "data": {
      "text/plain": [
       "[  اسمي سلطانمرحباً\\rمن اين انت؟انا من ولاية كارولينا الشمال\\r1234عندي 47 قطط\\rاسمي Jeremy في الانجليزيةهل انت شباك؟\\rJeremy is جرمي in Arabic  \\\n",
       " 0                                             مرحباً                                                                                            \n",
       " 1                       انا من ولاية كارولينا الشمال                                                                                            \n",
       " 2                                               1234                                                                                            \n",
       " 3                                       هل انت شباك؟                                                                                            \n",
       " 4                           Jeremy is جرمي in Arabic                                                                                            \n",
       " \n",
       "                   Unnamed: 0  \n",
       " 0                 اسمي سلطان  \n",
       " 1                من اين انت؟  \n",
       " 2                عندي 47 قطط  \n",
       " 3  اسمي Jeremy في الانجليزية  \n",
       " 4                        NaN  ,\n",
       "                                           Unnamed: 0  \\\n",
       " 0  اسمي سلطانمرحباً\\rمن اين انت؟انا من ولاية كارو...   \n",
       " 1                                             مرحباً   \n",
       " 2                       انا من ولاية كارولينا الشمال   \n",
       " 3                                               1234   \n",
       " 4                                       هل انت شباك؟   \n",
       " 5                           Jeremy is جرمي in Arabic   \n",
       " \n",
       "                   Unnamed: 1  \n",
       " 0                        NaN  \n",
       " 1                 اسمي سلطان  \n",
       " 2                من اين انت؟  \n",
       " 3                عندي 47 قطط  \n",
       " 4  اسمي Jeremy في الانجليزية  \n",
       " 5                        NaN  ]"
      ]
     },
     "execution_count": 75,
     "metadata": {},
     "output_type": "execute_result"
    }
   ],
   "source": [
    "ssl._create_default_https_context = ssl._create_unverified_context #Fix SSL Certification Errors\n",
    "dfs = read_pdf(\"https://github.com/tabulapdf/tabula-java/raw/master/src/test/resources/technology/tabula/arabic.pdf\", pages='all')\n",
    "dfs"
   ]
  }
 ],
 "metadata": {
  "kernelspec": {
   "display_name": "Python 3",
   "language": "python",
   "name": "python3"
  },
  "language_info": {
   "codemirror_mode": {
    "name": "ipython",
    "version": 3
   },
   "file_extension": ".py",
   "mimetype": "text/x-python",
   "name": "python",
   "nbconvert_exporter": "python",
   "pygments_lexer": "ipython3",
   "version": "3.11.4"
  }
 },
 "nbformat": 4,
 "nbformat_minor": 2
}
