{
  "nbformat": 4,
  "nbformat_minor": 0,
  "metadata": {
    "colab": {
      "provenance": []
    },
    "kernelspec": {
      "name": "python3",
      "display_name": "Python 3"
    },
    "language_info": {
      "name": "python"
    }
  },
  "cells": [
    {
      "cell_type": "code",
      "execution_count": 1,
      "metadata": {
        "id": "p0US0yZp23uJ"
      },
      "outputs": [],
      "source": [
        "from google.colab import drive\n"
      ]
    },
    {
      "cell_type": "code",
      "source": [
        "drive.mount(\"/content.gdrive\")"
      ],
      "metadata": {
        "colab": {
          "base_uri": "https://localhost:8080/"
        },
        "id": "yzXvbFUE2_iZ",
        "outputId": "8186a870-895e-400f-e146-49550dc50184"
      },
      "execution_count": 2,
      "outputs": [
        {
          "output_type": "stream",
          "name": "stdout",
          "text": [
            "Mounted at /content.gdrive\n"
          ]
        }
      ]
    },
    {
      "cell_type": "code",
      "source": [
        "import pandas as pd"
      ],
      "metadata": {
        "id": "zS6dOZj83OmE"
      },
      "execution_count": 3,
      "outputs": []
    },
    {
      "cell_type": "code",
      "source": [
        "Data = pd.read_excel(r\"//content/Data.xlsx\")"
      ],
      "metadata": {
        "id": "-WnMO0UZ3Zjx"
      },
      "execution_count": 4,
      "outputs": []
    },
    {
      "cell_type": "code",
      "source": [
        "display(pd.DataFrame(Data))"
      ],
      "metadata": {
        "colab": {
          "base_uri": "https://localhost:8080/",
          "height": 424
        },
        "id": "ziftYVMlnLUB",
        "outputId": "6e711715-f241-49f6-af26-72a60dc49a74"
      },
      "execution_count": 5,
      "outputs": [
        {
          "output_type": "display_data",
          "data": {
            "text/plain": [
              "     Start Date   End Date             TOWN  Super Petrol      Diesel  \\\n",
              "0    2023-07-15 2023-08-14          Mombasa    191.623637  176.628095   \n",
              "1    2023-07-15 2023-08-14           Kilifi    192.393558  177.398016   \n",
              "2    2023-07-15 2023-08-14  Likoni Mainland    192.003637  177.018095   \n",
              "3    2023-07-15 2023-08-14            Kwale    192.003637  177.018095   \n",
              "4    2023-07-15 2023-08-14          Malindi    192.615161  177.619619   \n",
              "...         ...        ...              ...           ...         ...   \n",
              "3526 2021-11-15 2021-12-14            Mbita    130.930000  112.100000   \n",
              "3527 2021-11-15 2021-12-14            Mbale    130.120000  111.300000   \n",
              "3528 2021-11-15 2021-12-14            Etago    131.580000  112.750000   \n",
              "3529 2021-11-15 2021-12-14         Magenche    131.670000  112.860000   \n",
              "3530 2021-11-15 2021-12-14         Kilgoris    131.510000  112.690000   \n",
              "\n",
              "        Kerosene  \n",
              "0     166.432575  \n",
              "1     167.192497  \n",
              "2     166.812575  \n",
              "3     166.812575  \n",
              "4     167.414099  \n",
              "...          ...  \n",
              "3526  105.070000  \n",
              "3527  104.260000  \n",
              "3528  105.720000  \n",
              "3529  105.820000  \n",
              "3530  105.660000  \n",
              "\n",
              "[3531 rows x 6 columns]"
            ],
            "text/html": [
              "\n",
              "  <div id=\"df-ff701441-89a9-48ca-ab4c-9b98ce2978fb\" class=\"colab-df-container\">\n",
              "    <div>\n",
              "<style scoped>\n",
              "    .dataframe tbody tr th:only-of-type {\n",
              "        vertical-align: middle;\n",
              "    }\n",
              "\n",
              "    .dataframe tbody tr th {\n",
              "        vertical-align: top;\n",
              "    }\n",
              "\n",
              "    .dataframe thead th {\n",
              "        text-align: right;\n",
              "    }\n",
              "</style>\n",
              "<table border=\"1\" class=\"dataframe\">\n",
              "  <thead>\n",
              "    <tr style=\"text-align: right;\">\n",
              "      <th></th>\n",
              "      <th>Start Date</th>\n",
              "      <th>End Date</th>\n",
              "      <th>TOWN</th>\n",
              "      <th>Super Petrol</th>\n",
              "      <th>Diesel</th>\n",
              "      <th>Kerosene</th>\n",
              "    </tr>\n",
              "  </thead>\n",
              "  <tbody>\n",
              "    <tr>\n",
              "      <th>0</th>\n",
              "      <td>2023-07-15</td>\n",
              "      <td>2023-08-14</td>\n",
              "      <td>Mombasa</td>\n",
              "      <td>191.623637</td>\n",
              "      <td>176.628095</td>\n",
              "      <td>166.432575</td>\n",
              "    </tr>\n",
              "    <tr>\n",
              "      <th>1</th>\n",
              "      <td>2023-07-15</td>\n",
              "      <td>2023-08-14</td>\n",
              "      <td>Kilifi</td>\n",
              "      <td>192.393558</td>\n",
              "      <td>177.398016</td>\n",
              "      <td>167.192497</td>\n",
              "    </tr>\n",
              "    <tr>\n",
              "      <th>2</th>\n",
              "      <td>2023-07-15</td>\n",
              "      <td>2023-08-14</td>\n",
              "      <td>Likoni Mainland</td>\n",
              "      <td>192.003637</td>\n",
              "      <td>177.018095</td>\n",
              "      <td>166.812575</td>\n",
              "    </tr>\n",
              "    <tr>\n",
              "      <th>3</th>\n",
              "      <td>2023-07-15</td>\n",
              "      <td>2023-08-14</td>\n",
              "      <td>Kwale</td>\n",
              "      <td>192.003637</td>\n",
              "      <td>177.018095</td>\n",
              "      <td>166.812575</td>\n",
              "    </tr>\n",
              "    <tr>\n",
              "      <th>4</th>\n",
              "      <td>2023-07-15</td>\n",
              "      <td>2023-08-14</td>\n",
              "      <td>Malindi</td>\n",
              "      <td>192.615161</td>\n",
              "      <td>177.619619</td>\n",
              "      <td>167.414099</td>\n",
              "    </tr>\n",
              "    <tr>\n",
              "      <th>...</th>\n",
              "      <td>...</td>\n",
              "      <td>...</td>\n",
              "      <td>...</td>\n",
              "      <td>...</td>\n",
              "      <td>...</td>\n",
              "      <td>...</td>\n",
              "    </tr>\n",
              "    <tr>\n",
              "      <th>3526</th>\n",
              "      <td>2021-11-15</td>\n",
              "      <td>2021-12-14</td>\n",
              "      <td>Mbita</td>\n",
              "      <td>130.930000</td>\n",
              "      <td>112.100000</td>\n",
              "      <td>105.070000</td>\n",
              "    </tr>\n",
              "    <tr>\n",
              "      <th>3527</th>\n",
              "      <td>2021-11-15</td>\n",
              "      <td>2021-12-14</td>\n",
              "      <td>Mbale</td>\n",
              "      <td>130.120000</td>\n",
              "      <td>111.300000</td>\n",
              "      <td>104.260000</td>\n",
              "    </tr>\n",
              "    <tr>\n",
              "      <th>3528</th>\n",
              "      <td>2021-11-15</td>\n",
              "      <td>2021-12-14</td>\n",
              "      <td>Etago</td>\n",
              "      <td>131.580000</td>\n",
              "      <td>112.750000</td>\n",
              "      <td>105.720000</td>\n",
              "    </tr>\n",
              "    <tr>\n",
              "      <th>3529</th>\n",
              "      <td>2021-11-15</td>\n",
              "      <td>2021-12-14</td>\n",
              "      <td>Magenche</td>\n",
              "      <td>131.670000</td>\n",
              "      <td>112.860000</td>\n",
              "      <td>105.820000</td>\n",
              "    </tr>\n",
              "    <tr>\n",
              "      <th>3530</th>\n",
              "      <td>2021-11-15</td>\n",
              "      <td>2021-12-14</td>\n",
              "      <td>Kilgoris</td>\n",
              "      <td>131.510000</td>\n",
              "      <td>112.690000</td>\n",
              "      <td>105.660000</td>\n",
              "    </tr>\n",
              "  </tbody>\n",
              "</table>\n",
              "<p>3531 rows × 6 columns</p>\n",
              "</div>\n",
              "    <div class=\"colab-df-buttons\">\n",
              "\n",
              "  <div class=\"colab-df-container\">\n",
              "    <button class=\"colab-df-convert\" onclick=\"convertToInteractive('df-ff701441-89a9-48ca-ab4c-9b98ce2978fb')\"\n",
              "            title=\"Convert this dataframe to an interactive table.\"\n",
              "            style=\"display:none;\">\n",
              "\n",
              "  <svg xmlns=\"http://www.w3.org/2000/svg\" height=\"24px\" viewBox=\"0 -960 960 960\">\n",
              "    <path d=\"M120-120v-720h720v720H120Zm60-500h600v-160H180v160Zm220 220h160v-160H400v160Zm0 220h160v-160H400v160ZM180-400h160v-160H180v160Zm440 0h160v-160H620v160ZM180-180h160v-160H180v160Zm440 0h160v-160H620v160Z\"/>\n",
              "  </svg>\n",
              "    </button>\n",
              "\n",
              "  <style>\n",
              "    .colab-df-container {\n",
              "      display:flex;\n",
              "      gap: 12px;\n",
              "    }\n",
              "\n",
              "    .colab-df-convert {\n",
              "      background-color: #E8F0FE;\n",
              "      border: none;\n",
              "      border-radius: 50%;\n",
              "      cursor: pointer;\n",
              "      display: none;\n",
              "      fill: #1967D2;\n",
              "      height: 32px;\n",
              "      padding: 0 0 0 0;\n",
              "      width: 32px;\n",
              "    }\n",
              "\n",
              "    .colab-df-convert:hover {\n",
              "      background-color: #E2EBFA;\n",
              "      box-shadow: 0px 1px 2px rgba(60, 64, 67, 0.3), 0px 1px 3px 1px rgba(60, 64, 67, 0.15);\n",
              "      fill: #174EA6;\n",
              "    }\n",
              "\n",
              "    .colab-df-buttons div {\n",
              "      margin-bottom: 4px;\n",
              "    }\n",
              "\n",
              "    [theme=dark] .colab-df-convert {\n",
              "      background-color: #3B4455;\n",
              "      fill: #D2E3FC;\n",
              "    }\n",
              "\n",
              "    [theme=dark] .colab-df-convert:hover {\n",
              "      background-color: #434B5C;\n",
              "      box-shadow: 0px 1px 3px 1px rgba(0, 0, 0, 0.15);\n",
              "      filter: drop-shadow(0px 1px 2px rgba(0, 0, 0, 0.3));\n",
              "      fill: #FFFFFF;\n",
              "    }\n",
              "  </style>\n",
              "\n",
              "    <script>\n",
              "      const buttonEl =\n",
              "        document.querySelector('#df-ff701441-89a9-48ca-ab4c-9b98ce2978fb button.colab-df-convert');\n",
              "      buttonEl.style.display =\n",
              "        google.colab.kernel.accessAllowed ? 'block' : 'none';\n",
              "\n",
              "      async function convertToInteractive(key) {\n",
              "        const element = document.querySelector('#df-ff701441-89a9-48ca-ab4c-9b98ce2978fb');\n",
              "        const dataTable =\n",
              "          await google.colab.kernel.invokeFunction('convertToInteractive',\n",
              "                                                    [key], {});\n",
              "        if (!dataTable) return;\n",
              "\n",
              "        const docLinkHtml = 'Like what you see? Visit the ' +\n",
              "          '<a target=\"_blank\" href=https://colab.research.google.com/notebooks/data_table.ipynb>data table notebook</a>'\n",
              "          + ' to learn more about interactive tables.';\n",
              "        element.innerHTML = '';\n",
              "        dataTable['output_type'] = 'display_data';\n",
              "        await google.colab.output.renderOutput(dataTable, element);\n",
              "        const docLink = document.createElement('div');\n",
              "        docLink.innerHTML = docLinkHtml;\n",
              "        element.appendChild(docLink);\n",
              "      }\n",
              "    </script>\n",
              "  </div>\n",
              "\n",
              "\n",
              "<div id=\"df-0ee13c4b-7187-4d02-a6ec-cf63bd7eef2d\">\n",
              "  <button class=\"colab-df-quickchart\" onclick=\"quickchart('df-0ee13c4b-7187-4d02-a6ec-cf63bd7eef2d')\"\n",
              "            title=\"Suggest charts.\"\n",
              "            style=\"display:none;\">\n",
              "\n",
              "<svg xmlns=\"http://www.w3.org/2000/svg\" height=\"24px\"viewBox=\"0 0 24 24\"\n",
              "     width=\"24px\">\n",
              "    <g>\n",
              "        <path d=\"M19 3H5c-1.1 0-2 .9-2 2v14c0 1.1.9 2 2 2h14c1.1 0 2-.9 2-2V5c0-1.1-.9-2-2-2zM9 17H7v-7h2v7zm4 0h-2V7h2v10zm4 0h-2v-4h2v4z\"/>\n",
              "    </g>\n",
              "</svg>\n",
              "  </button>\n",
              "\n",
              "<style>\n",
              "  .colab-df-quickchart {\n",
              "      --bg-color: #E8F0FE;\n",
              "      --fill-color: #1967D2;\n",
              "      --hover-bg-color: #E2EBFA;\n",
              "      --hover-fill-color: #174EA6;\n",
              "      --disabled-fill-color: #AAA;\n",
              "      --disabled-bg-color: #DDD;\n",
              "  }\n",
              "\n",
              "  [theme=dark] .colab-df-quickchart {\n",
              "      --bg-color: #3B4455;\n",
              "      --fill-color: #D2E3FC;\n",
              "      --hover-bg-color: #434B5C;\n",
              "      --hover-fill-color: #FFFFFF;\n",
              "      --disabled-bg-color: #3B4455;\n",
              "      --disabled-fill-color: #666;\n",
              "  }\n",
              "\n",
              "  .colab-df-quickchart {\n",
              "    background-color: var(--bg-color);\n",
              "    border: none;\n",
              "    border-radius: 50%;\n",
              "    cursor: pointer;\n",
              "    display: none;\n",
              "    fill: var(--fill-color);\n",
              "    height: 32px;\n",
              "    padding: 0;\n",
              "    width: 32px;\n",
              "  }\n",
              "\n",
              "  .colab-df-quickchart:hover {\n",
              "    background-color: var(--hover-bg-color);\n",
              "    box-shadow: 0 1px 2px rgba(60, 64, 67, 0.3), 0 1px 3px 1px rgba(60, 64, 67, 0.15);\n",
              "    fill: var(--button-hover-fill-color);\n",
              "  }\n",
              "\n",
              "  .colab-df-quickchart-complete:disabled,\n",
              "  .colab-df-quickchart-complete:disabled:hover {\n",
              "    background-color: var(--disabled-bg-color);\n",
              "    fill: var(--disabled-fill-color);\n",
              "    box-shadow: none;\n",
              "  }\n",
              "\n",
              "  .colab-df-spinner {\n",
              "    border: 2px solid var(--fill-color);\n",
              "    border-color: transparent;\n",
              "    border-bottom-color: var(--fill-color);\n",
              "    animation:\n",
              "      spin 1s steps(1) infinite;\n",
              "  }\n",
              "\n",
              "  @keyframes spin {\n",
              "    0% {\n",
              "      border-color: transparent;\n",
              "      border-bottom-color: var(--fill-color);\n",
              "      border-left-color: var(--fill-color);\n",
              "    }\n",
              "    20% {\n",
              "      border-color: transparent;\n",
              "      border-left-color: var(--fill-color);\n",
              "      border-top-color: var(--fill-color);\n",
              "    }\n",
              "    30% {\n",
              "      border-color: transparent;\n",
              "      border-left-color: var(--fill-color);\n",
              "      border-top-color: var(--fill-color);\n",
              "      border-right-color: var(--fill-color);\n",
              "    }\n",
              "    40% {\n",
              "      border-color: transparent;\n",
              "      border-right-color: var(--fill-color);\n",
              "      border-top-color: var(--fill-color);\n",
              "    }\n",
              "    60% {\n",
              "      border-color: transparent;\n",
              "      border-right-color: var(--fill-color);\n",
              "    }\n",
              "    80% {\n",
              "      border-color: transparent;\n",
              "      border-right-color: var(--fill-color);\n",
              "      border-bottom-color: var(--fill-color);\n",
              "    }\n",
              "    90% {\n",
              "      border-color: transparent;\n",
              "      border-bottom-color: var(--fill-color);\n",
              "    }\n",
              "  }\n",
              "</style>\n",
              "\n",
              "  <script>\n",
              "    async function quickchart(key) {\n",
              "      const quickchartButtonEl =\n",
              "        document.querySelector('#' + key + ' button');\n",
              "      quickchartButtonEl.disabled = true;  // To prevent multiple clicks.\n",
              "      quickchartButtonEl.classList.add('colab-df-spinner');\n",
              "      try {\n",
              "        const charts = await google.colab.kernel.invokeFunction(\n",
              "            'suggestCharts', [key], {});\n",
              "      } catch (error) {\n",
              "        console.error('Error during call to suggestCharts:', error);\n",
              "      }\n",
              "      quickchartButtonEl.classList.remove('colab-df-spinner');\n",
              "      quickchartButtonEl.classList.add('colab-df-quickchart-complete');\n",
              "    }\n",
              "    (() => {\n",
              "      let quickchartButtonEl =\n",
              "        document.querySelector('#df-0ee13c4b-7187-4d02-a6ec-cf63bd7eef2d button');\n",
              "      quickchartButtonEl.style.display =\n",
              "        google.colab.kernel.accessAllowed ? 'block' : 'none';\n",
              "    })();\n",
              "  </script>\n",
              "</div>\n",
              "    </div>\n",
              "  </div>\n"
            ]
          },
          "metadata": {}
        }
      ]
    },
    {
      "cell_type": "code",
      "source": [
        "!pip install pymysql"
      ],
      "metadata": {
        "colab": {
          "base_uri": "https://localhost:8080/"
        },
        "id": "gijBZpN9nWgf",
        "outputId": "4a666de5-5e7a-44ae-ccc2-ce6f5f15fb03"
      },
      "execution_count": 6,
      "outputs": [
        {
          "output_type": "stream",
          "name": "stdout",
          "text": [
            "Collecting pymysql\n",
            "  Downloading PyMySQL-1.1.0-py3-none-any.whl (44 kB)\n",
            "\u001b[?25l     \u001b[90m━━━━━━━━━━━━━━━━━━━━━━━━━━━━━━━━━━━━━━━━\u001b[0m \u001b[32m0.0/44.8 kB\u001b[0m \u001b[31m?\u001b[0m eta \u001b[36m-:--:--\u001b[0m\r\u001b[2K     \u001b[90m━━━━━━━━━━━━━━━━━━━━━━━━━━━━━━━━━━━━━━━━\u001b[0m \u001b[32m44.8/44.8 kB\u001b[0m \u001b[31m1.9 MB/s\u001b[0m eta \u001b[36m0:00:00\u001b[0m\n",
            "\u001b[?25hInstalling collected packages: pymysql\n",
            "Successfully installed pymysql-1.1.0\n"
          ]
        }
      ]
    },
    {
      "cell_type": "code",
      "source": [
        "%load_ext sql"
      ],
      "metadata": {
        "id": "V9dFdJb1pqd5"
      },
      "execution_count": 7,
      "outputs": []
    },
    {
      "cell_type": "code",
      "source": [
        "%%sql\n",
        "\n",
        "sqlite:///OilPrices.db"
      ],
      "metadata": {
        "id": "VHo_ITP6pvfe"
      },
      "execution_count": 8,
      "outputs": []
    },
    {
      "cell_type": "code",
      "source": [
        "%%sql\n",
        "\n",
        "CREATE TABLE Towns (\n",
        "    TownID INT PRIMARY KEY,\n",
        "    TownName VARCHAR(255) NOT NULL\n",
        ");"
      ],
      "metadata": {
        "colab": {
          "base_uri": "https://localhost:8080/"
        },
        "id": "4g3kRwtYqOjm",
        "outputId": "07b19108-4407-402f-9074-8c20967441b4"
      },
      "execution_count": 9,
      "outputs": [
        {
          "output_type": "stream",
          "name": "stdout",
          "text": [
            " * sqlite:///OilPrices.db\n",
            "Done.\n"
          ]
        },
        {
          "output_type": "execute_result",
          "data": {
            "text/plain": [
              "[]"
            ]
          },
          "metadata": {},
          "execution_count": 9
        }
      ]
    },
    {
      "cell_type": "code",
      "source": [
        "%%sql\n",
        "\n",
        "CREATE TABLE FuelPrices (\n",
        "    PriceID INT PRIMARY KEY,\n",
        "    StartDate DATE NOT NULL,\n",
        "    EndDate DATE NOT NULL,\n",
        "    TownID INT,\n",
        "    SuperPetrol DECIMAL(10, 2) NOT NULL,\n",
        "    Diesel DECIMAL(10, 2) NOT NULL,\n",
        "    Kerosene DECIMAL(10, 2) NOT NULL,\n",
        "    FOREIGN KEY (TownID) REFERENCES Towns (TownID)\n",
        ");\n",
        "\n",
        "\n",
        "\n",
        "\n"
      ],
      "metadata": {
        "colab": {
          "base_uri": "https://localhost:8080/"
        },
        "id": "IljTk2Qxrmiv",
        "outputId": "340eaecd-de0e-49fe-d5b3-0b8ffc081f24"
      },
      "execution_count": 10,
      "outputs": [
        {
          "output_type": "stream",
          "name": "stdout",
          "text": [
            " * sqlite:///OilPrices.db\n",
            "Done.\n"
          ]
        },
        {
          "output_type": "execute_result",
          "data": {
            "text/plain": [
              "[]"
            ]
          },
          "metadata": {},
          "execution_count": 10
        }
      ]
    },
    {
      "cell_type": "code",
      "source": [
        "%%sql\n",
        "\n",
        "INSERT INTO Towns (TownID, TownName)\n",
        "VALUES\n",
        "    (1, 'Mombasa'),\n",
        "    (2, 'Kilifi'),\n",
        "    (3, 'Likoni Mainland'),\n",
        "    (4,  \"Kwale\"),\n",
        "    (5,  \"Malindi\")\n",
        "    ;\n"
      ],
      "metadata": {
        "id": "Y7IE8AdXsRh2",
        "colab": {
          "base_uri": "https://localhost:8080/"
        },
        "outputId": "02d3a192-246f-4917-d9fd-5efd9a5d4784"
      },
      "execution_count": 11,
      "outputs": [
        {
          "output_type": "stream",
          "name": "stdout",
          "text": [
            " * sqlite:///OilPrices.db\n",
            "5 rows affected.\n"
          ]
        },
        {
          "output_type": "execute_result",
          "data": {
            "text/plain": [
              "[]"
            ]
          },
          "metadata": {},
          "execution_count": 11
        }
      ]
    },
    {
      "cell_type": "code",
      "source": [
        "%%sql\n",
        "\n",
        "INSERT INTO FuelPrices (PriceID, StartDate, EndDate, TownID, SuperPetrol, Diesel, Kerosene)\n",
        "VALUES\n",
        "    (001, '2023-07-15', '2023-08-14', 1, 191.62, 176.63, 166.43),\n",
        "    (002, '2023-07-15', '2023-08-14', 2, 192.39, 177.40, 167.19),\n",
        "    (003, '2023-07-15', '2023-08-14', 3, 192.00, 177.02, 166.81),\n",
        "    (004, '2023-07-15', '2023-08-14', 4, 192.00, 177.02, 166.81),\n",
        "    (005, '2023-07-15', '2023-08-14', 5, 192.62, 177.62, 167.41)\n",
        "    ;"
      ],
      "metadata": {
        "colab": {
          "base_uri": "https://localhost:8080/"
        },
        "id": "QTRuuCqxf5jH",
        "outputId": "18a64367-1412-4408-821f-ff8c9ff76c20"
      },
      "execution_count": 12,
      "outputs": [
        {
          "output_type": "stream",
          "name": "stdout",
          "text": [
            " * sqlite:///OilPrices.db\n",
            "5 rows affected.\n"
          ]
        },
        {
          "output_type": "execute_result",
          "data": {
            "text/plain": [
              "[]"
            ]
          },
          "metadata": {},
          "execution_count": 12
        }
      ]
    },
    {
      "cell_type": "code",
      "source": [
        "%%sql\n",
        "\n",
        "SELECT *FROM TOWNS"
      ],
      "metadata": {
        "colab": {
          "base_uri": "https://localhost:8080/",
          "height": 182
        },
        "id": "t4ciLQifyswZ",
        "outputId": "f43a7495-8572-4b4f-838a-659b14479142"
      },
      "execution_count": 13,
      "outputs": [
        {
          "output_type": "stream",
          "name": "stdout",
          "text": [
            " * sqlite:///OilPrices.db\n",
            "Done.\n"
          ]
        },
        {
          "output_type": "execute_result",
          "data": {
            "text/plain": [
              "[(1, 'Mombasa'),\n",
              " (2, 'Kilifi'),\n",
              " (3, 'Likoni Mainland'),\n",
              " (4, 'Kwale'),\n",
              " (5, 'Malindi')]"
            ],
            "text/html": [
              "<table>\n",
              "    <thead>\n",
              "        <tr>\n",
              "            <th>TownID</th>\n",
              "            <th>TownName</th>\n",
              "        </tr>\n",
              "    </thead>\n",
              "    <tbody>\n",
              "        <tr>\n",
              "            <td>1</td>\n",
              "            <td>Mombasa</td>\n",
              "        </tr>\n",
              "        <tr>\n",
              "            <td>2</td>\n",
              "            <td>Kilifi</td>\n",
              "        </tr>\n",
              "        <tr>\n",
              "            <td>3</td>\n",
              "            <td>Likoni Mainland</td>\n",
              "        </tr>\n",
              "        <tr>\n",
              "            <td>4</td>\n",
              "            <td>Kwale</td>\n",
              "        </tr>\n",
              "        <tr>\n",
              "            <td>5</td>\n",
              "            <td>Malindi</td>\n",
              "        </tr>\n",
              "    </tbody>\n",
              "</table>"
            ]
          },
          "metadata": {},
          "execution_count": 13
        }
      ]
    },
    {
      "cell_type": "code",
      "source": [
        "%%sql\n",
        "\n",
        "SELECT * FROM FuelPrices"
      ],
      "metadata": {
        "colab": {
          "base_uri": "https://localhost:8080/",
          "height": 182
        },
        "id": "FMoI90LUyy85",
        "outputId": "4cdff5b2-2808-4152-df09-d8d5e142adf9"
      },
      "execution_count": 14,
      "outputs": [
        {
          "output_type": "stream",
          "name": "stdout",
          "text": [
            " * sqlite:///OilPrices.db\n",
            "Done.\n"
          ]
        },
        {
          "output_type": "execute_result",
          "data": {
            "text/plain": [
              "[(1, '2023-07-15', '2023-08-14', 1, 191.62, 176.63, 166.43),\n",
              " (2, '2023-07-15', '2023-08-14', 2, 192.39, 177.4, 167.19),\n",
              " (3, '2023-07-15', '2023-08-14', 3, 192, 177.02, 166.81),\n",
              " (4, '2023-07-15', '2023-08-14', 4, 192, 177.02, 166.81),\n",
              " (5, '2023-07-15', '2023-08-14', 5, 192.62, 177.62, 167.41)]"
            ],
            "text/html": [
              "<table>\n",
              "    <thead>\n",
              "        <tr>\n",
              "            <th>PriceID</th>\n",
              "            <th>StartDate</th>\n",
              "            <th>EndDate</th>\n",
              "            <th>TownID</th>\n",
              "            <th>SuperPetrol</th>\n",
              "            <th>Diesel</th>\n",
              "            <th>Kerosene</th>\n",
              "        </tr>\n",
              "    </thead>\n",
              "    <tbody>\n",
              "        <tr>\n",
              "            <td>1</td>\n",
              "            <td>2023-07-15</td>\n",
              "            <td>2023-08-14</td>\n",
              "            <td>1</td>\n",
              "            <td>191.62</td>\n",
              "            <td>176.63</td>\n",
              "            <td>166.43</td>\n",
              "        </tr>\n",
              "        <tr>\n",
              "            <td>2</td>\n",
              "            <td>2023-07-15</td>\n",
              "            <td>2023-08-14</td>\n",
              "            <td>2</td>\n",
              "            <td>192.39</td>\n",
              "            <td>177.4</td>\n",
              "            <td>167.19</td>\n",
              "        </tr>\n",
              "        <tr>\n",
              "            <td>3</td>\n",
              "            <td>2023-07-15</td>\n",
              "            <td>2023-08-14</td>\n",
              "            <td>3</td>\n",
              "            <td>192</td>\n",
              "            <td>177.02</td>\n",
              "            <td>166.81</td>\n",
              "        </tr>\n",
              "        <tr>\n",
              "            <td>4</td>\n",
              "            <td>2023-07-15</td>\n",
              "            <td>2023-08-14</td>\n",
              "            <td>4</td>\n",
              "            <td>192</td>\n",
              "            <td>177.02</td>\n",
              "            <td>166.81</td>\n",
              "        </tr>\n",
              "        <tr>\n",
              "            <td>5</td>\n",
              "            <td>2023-07-15</td>\n",
              "            <td>2023-08-14</td>\n",
              "            <td>5</td>\n",
              "            <td>192.62</td>\n",
              "            <td>177.62</td>\n",
              "            <td>167.41</td>\n",
              "        </tr>\n",
              "    </tbody>\n",
              "</table>"
            ]
          },
          "metadata": {},
          "execution_count": 14
        }
      ]
    },
    {
      "cell_type": "markdown",
      "source": [
        "Retrieve Fuel Prices for a Specific Town (e.g., Mombasa):"
      ],
      "metadata": {
        "id": "fvhf6ZZV1w3A"
      }
    },
    {
      "cell_type": "code",
      "source": [
        "%%sql\n",
        "\n",
        "SELECT Towns.TownName, FuelPrices.StartDate, FuelPrices.EndDate, FuelPrices.SuperPetrol, FuelPrices.Diesel, FuelPrices.Kerosene\n",
        "FROM FuelPrices\n",
        "INNER JOIN Towns ON FuelPrices.TownID = Towns.TownID\n",
        "WHERE Towns.TownName IN ('Mombasa', \"Kilifi\", \"Likoni Mainland\", \"Kwale\", \"Malindi\");\n"
      ],
      "metadata": {
        "colab": {
          "base_uri": "https://localhost:8080/",
          "height": 182
        },
        "id": "H5N0lhn91HLX",
        "outputId": "6405e293-da9a-4c69-a54b-26875dc9a688"
      },
      "execution_count": 15,
      "outputs": [
        {
          "output_type": "stream",
          "name": "stdout",
          "text": [
            " * sqlite:///OilPrices.db\n",
            "Done.\n"
          ]
        },
        {
          "output_type": "execute_result",
          "data": {
            "text/plain": [
              "[('Mombasa', '2023-07-15', '2023-08-14', 191.62, 176.63, 166.43),\n",
              " ('Kilifi', '2023-07-15', '2023-08-14', 192.39, 177.4, 167.19),\n",
              " ('Likoni Mainland', '2023-07-15', '2023-08-14', 192, 177.02, 166.81),\n",
              " ('Kwale', '2023-07-15', '2023-08-14', 192, 177.02, 166.81),\n",
              " ('Malindi', '2023-07-15', '2023-08-14', 192.62, 177.62, 167.41)]"
            ],
            "text/html": [
              "<table>\n",
              "    <thead>\n",
              "        <tr>\n",
              "            <th>TownName</th>\n",
              "            <th>StartDate</th>\n",
              "            <th>EndDate</th>\n",
              "            <th>SuperPetrol</th>\n",
              "            <th>Diesel</th>\n",
              "            <th>Kerosene</th>\n",
              "        </tr>\n",
              "    </thead>\n",
              "    <tbody>\n",
              "        <tr>\n",
              "            <td>Mombasa</td>\n",
              "            <td>2023-07-15</td>\n",
              "            <td>2023-08-14</td>\n",
              "            <td>191.62</td>\n",
              "            <td>176.63</td>\n",
              "            <td>166.43</td>\n",
              "        </tr>\n",
              "        <tr>\n",
              "            <td>Kilifi</td>\n",
              "            <td>2023-07-15</td>\n",
              "            <td>2023-08-14</td>\n",
              "            <td>192.39</td>\n",
              "            <td>177.4</td>\n",
              "            <td>167.19</td>\n",
              "        </tr>\n",
              "        <tr>\n",
              "            <td>Likoni Mainland</td>\n",
              "            <td>2023-07-15</td>\n",
              "            <td>2023-08-14</td>\n",
              "            <td>192</td>\n",
              "            <td>177.02</td>\n",
              "            <td>166.81</td>\n",
              "        </tr>\n",
              "        <tr>\n",
              "            <td>Kwale</td>\n",
              "            <td>2023-07-15</td>\n",
              "            <td>2023-08-14</td>\n",
              "            <td>192</td>\n",
              "            <td>177.02</td>\n",
              "            <td>166.81</td>\n",
              "        </tr>\n",
              "        <tr>\n",
              "            <td>Malindi</td>\n",
              "            <td>2023-07-15</td>\n",
              "            <td>2023-08-14</td>\n",
              "            <td>192.62</td>\n",
              "            <td>177.62</td>\n",
              "            <td>167.41</td>\n",
              "        </tr>\n",
              "    </tbody>\n",
              "</table>"
            ]
          },
          "metadata": {},
          "execution_count": 15
        }
      ]
    },
    {
      "cell_type": "code",
      "source": [
        "%%sql\n",
        "\n",
        "SELECT Towns.TownName, MAX(FuelPrices.SuperPetrol) AS MaxSuperPetrolPrice\n",
        "FROM FuelPrices\n",
        "INNER JOIN Towns ON FuelPrices.TownID = Towns.TownID;\n"
      ],
      "metadata": {
        "colab": {
          "base_uri": "https://localhost:8080/",
          "height": 96
        },
        "id": "JSq30cuQ5DiP",
        "outputId": "b17fdb2d-5756-4d3d-f481-a92ddcd8a80a"
      },
      "execution_count": 16,
      "outputs": [
        {
          "output_type": "stream",
          "name": "stdout",
          "text": [
            " * sqlite:///OilPrices.db\n",
            "Done.\n"
          ]
        },
        {
          "output_type": "execute_result",
          "data": {
            "text/plain": [
              "[('Malindi', 192.62)]"
            ],
            "text/html": [
              "<table>\n",
              "    <thead>\n",
              "        <tr>\n",
              "            <th>TownName</th>\n",
              "            <th>MaxSuperPetrolPrice</th>\n",
              "        </tr>\n",
              "    </thead>\n",
              "    <tbody>\n",
              "        <tr>\n",
              "            <td>Malindi</td>\n",
              "            <td>192.62</td>\n",
              "        </tr>\n",
              "    </tbody>\n",
              "</table>"
            ]
          },
          "metadata": {},
          "execution_count": 16
        }
      ]
    },
    {
      "cell_type": "code",
      "source": [
        "%%sql\n",
        "\n",
        "CREATE TABLE TownsTZ (\n",
        "    TownID INT PRIMARY KEY,\n",
        "    TownName VARCHAR(255) NOT NULL\n",
        ");"
      ],
      "metadata": {
        "colab": {
          "base_uri": "https://localhost:8080/"
        },
        "id": "_O0WEBG-8l1M",
        "outputId": "fc0bea8e-22c7-4e5a-b034-4f1d3a8e92c2"
      },
      "execution_count": 17,
      "outputs": [
        {
          "output_type": "stream",
          "name": "stdout",
          "text": [
            " * sqlite:///OilPrices.db\n",
            "Done.\n"
          ]
        },
        {
          "output_type": "execute_result",
          "data": {
            "text/plain": [
              "[]"
            ]
          },
          "metadata": {},
          "execution_count": 17
        }
      ]
    },
    {
      "cell_type": "code",
      "source": [
        "%%sql\n",
        "CREATE TABLE TZFuelPrices (\n",
        "    PriceID INT PRIMARY KEY,\n",
        "    StartDate DATE NOT NULL,\n",
        "    EndDate DATE NOT NULL,\n",
        "    TownID INT,\n",
        "    Petrol DECIMAL(10, 2) NOT NULL,\n",
        "    Diesel DECIMAL(10, 2) NOT NULL,\n",
        "    Kerosene DECIMAL(10, 2) NOT NULL,\n",
        "    FOREIGN KEY (TownID) REFERENCES Towns (TownID)\n",
        ");"
      ],
      "metadata": {
        "colab": {
          "base_uri": "https://localhost:8080/"
        },
        "id": "k0UHMbEj8zzd",
        "outputId": "e739ac8a-90e8-4802-f65a-c9f39a492b66"
      },
      "execution_count": 18,
      "outputs": [
        {
          "output_type": "stream",
          "name": "stdout",
          "text": [
            " * sqlite:///OilPrices.db\n",
            "Done.\n"
          ]
        },
        {
          "output_type": "execute_result",
          "data": {
            "text/plain": [
              "[]"
            ]
          },
          "metadata": {},
          "execution_count": 18
        }
      ]
    },
    {
      "cell_type": "code",
      "source": [
        "%%sql\n",
        "\n",
        "INSERT INTO TownsTZ (TownID, TownName)\n",
        "VALUES\n",
        "    (1, 'Dares Salam'),\n",
        "    (2, 'Arusha'),\n",
        "    (3, 'Arumeru'),\n",
        "    (4,  \"Karatu\"),\n",
        "    (5,  \"Longido\")\n",
        "    ;\n"
      ],
      "metadata": {
        "colab": {
          "base_uri": "https://localhost:8080/"
        },
        "id": "oQWG3DaH9hZJ",
        "outputId": "2b2714ed-9115-4f58-d0ba-1e735dd18b59"
      },
      "execution_count": 19,
      "outputs": [
        {
          "output_type": "stream",
          "name": "stdout",
          "text": [
            " * sqlite:///OilPrices.db\n",
            "5 rows affected.\n"
          ]
        },
        {
          "output_type": "execute_result",
          "data": {
            "text/plain": [
              "[]"
            ]
          },
          "metadata": {},
          "execution_count": 19
        }
      ]
    },
    {
      "cell_type": "code",
      "source": [
        "%%sql\n",
        "\n",
        "INSERT INTO TZFuelPrices (PriceID, StartDate, EndDate, TownID, Petrol, Diesel, Kerosene)\n",
        "VALUES\n",
        "    (001, '2023-07-15', '2023-08-14', 1, 3281, 3448, 2943),\n",
        "    (002, '2023-07-15', '2023-08-14', 2, 3365, 3532, 3027),\n",
        "    (003, '2023-07-15', '2023-08-14', 3, 3365, 3532, 3027),\n",
        "    (004, '2023-07-15', '2023-08-14', 4, 3383, 3550, 3046),\n",
        "    (005, '2023-07-15', '2023-08-14', 5, 3376, 3543, 3038)\n",
        "    ;"
      ],
      "metadata": {
        "colab": {
          "base_uri": "https://localhost:8080/"
        },
        "id": "IxW3cnr6-Bo_",
        "outputId": "4666fbeb-4e54-494a-cac2-1f9c6d2f684f"
      },
      "execution_count": 20,
      "outputs": [
        {
          "output_type": "stream",
          "name": "stdout",
          "text": [
            " * sqlite:///OilPrices.db\n",
            "5 rows affected.\n"
          ]
        },
        {
          "output_type": "execute_result",
          "data": {
            "text/plain": [
              "[]"
            ]
          },
          "metadata": {},
          "execution_count": 20
        }
      ]
    },
    {
      "cell_type": "code",
      "source": [
        "%%sql\n",
        "\n",
        "SELECT TownsTZ.TownName, TZFuelPrices.StartDate, TZFuelPrices.EndDate, TZFuelPrices.Petrol, TZFuelPrices.Diesel, TZFuelPrices.Kerosene\n",
        "FROM TZFuelPrices\n",
        "INNER JOIN TownsTZ ON TZFuelPrices.TownID = TownsTZ.TownID\n",
        "WHERE TownsTZ.TownName IN ('Dares Salam', \"Arusha\", \"Arumeru\", \"Karatu\", \"Longido\");"
      ],
      "metadata": {
        "colab": {
          "base_uri": "https://localhost:8080/",
          "height": 182
        },
        "id": "QaYkW2grIPAK",
        "outputId": "03e4aa58-9b78-45f0-95c5-9f1a9b659dc4"
      },
      "execution_count": 21,
      "outputs": [
        {
          "output_type": "stream",
          "name": "stdout",
          "text": [
            " * sqlite:///OilPrices.db\n",
            "Done.\n"
          ]
        },
        {
          "output_type": "execute_result",
          "data": {
            "text/plain": [
              "[('Dares Salam', '2023-07-15', '2023-08-14', 3281, 3448, 2943),\n",
              " ('Arusha', '2023-07-15', '2023-08-14', 3365, 3532, 3027),\n",
              " ('Arumeru', '2023-07-15', '2023-08-14', 3365, 3532, 3027),\n",
              " ('Karatu', '2023-07-15', '2023-08-14', 3383, 3550, 3046),\n",
              " ('Longido', '2023-07-15', '2023-08-14', 3376, 3543, 3038)]"
            ],
            "text/html": [
              "<table>\n",
              "    <thead>\n",
              "        <tr>\n",
              "            <th>TownName</th>\n",
              "            <th>StartDate</th>\n",
              "            <th>EndDate</th>\n",
              "            <th>Petrol</th>\n",
              "            <th>Diesel</th>\n",
              "            <th>Kerosene</th>\n",
              "        </tr>\n",
              "    </thead>\n",
              "    <tbody>\n",
              "        <tr>\n",
              "            <td>Dares Salam</td>\n",
              "            <td>2023-07-15</td>\n",
              "            <td>2023-08-14</td>\n",
              "            <td>3281</td>\n",
              "            <td>3448</td>\n",
              "            <td>2943</td>\n",
              "        </tr>\n",
              "        <tr>\n",
              "            <td>Arusha</td>\n",
              "            <td>2023-07-15</td>\n",
              "            <td>2023-08-14</td>\n",
              "            <td>3365</td>\n",
              "            <td>3532</td>\n",
              "            <td>3027</td>\n",
              "        </tr>\n",
              "        <tr>\n",
              "            <td>Arumeru</td>\n",
              "            <td>2023-07-15</td>\n",
              "            <td>2023-08-14</td>\n",
              "            <td>3365</td>\n",
              "            <td>3532</td>\n",
              "            <td>3027</td>\n",
              "        </tr>\n",
              "        <tr>\n",
              "            <td>Karatu</td>\n",
              "            <td>2023-07-15</td>\n",
              "            <td>2023-08-14</td>\n",
              "            <td>3383</td>\n",
              "            <td>3550</td>\n",
              "            <td>3046</td>\n",
              "        </tr>\n",
              "        <tr>\n",
              "            <td>Longido</td>\n",
              "            <td>2023-07-15</td>\n",
              "            <td>2023-08-14</td>\n",
              "            <td>3376</td>\n",
              "            <td>3543</td>\n",
              "            <td>3038</td>\n",
              "        </tr>\n",
              "    </tbody>\n",
              "</table>"
            ]
          },
          "metadata": {},
          "execution_count": 21
        }
      ]
    },
    {
      "cell_type": "code",
      "source": [
        "%%sql\n",
        "\n",
        "-- Calculate average oil prices in Kenya\n",
        "SELECT 'Kenya' AS Country,\n",
        "       AVG(SuperPetrol) AS AvgSuperPetrol_Kenya,\n",
        "       AVG(Diesel) AS AvgDiesel_Kenya,\n",
        "       AVG(Kerosene) AS AvgKerosene_Kenya\n",
        "FROM FuelPrices;"
      ],
      "metadata": {
        "colab": {
          "base_uri": "https://localhost:8080/",
          "height": 96
        },
        "id": "kWVIhon5HTpX",
        "outputId": "1767fa1a-96b1-45d9-ab5e-d6c496634e88"
      },
      "execution_count": 22,
      "outputs": [
        {
          "output_type": "stream",
          "name": "stdout",
          "text": [
            " * sqlite:///OilPrices.db\n",
            "Done.\n"
          ]
        },
        {
          "output_type": "execute_result",
          "data": {
            "text/plain": [
              "[('Kenya', 192.126, 177.13799999999998, 166.93)]"
            ],
            "text/html": [
              "<table>\n",
              "    <thead>\n",
              "        <tr>\n",
              "            <th>Country</th>\n",
              "            <th>AvgSuperPetrol_Kenya</th>\n",
              "            <th>AvgDiesel_Kenya</th>\n",
              "            <th>AvgKerosene_Kenya</th>\n",
              "        </tr>\n",
              "    </thead>\n",
              "    <tbody>\n",
              "        <tr>\n",
              "            <td>Kenya</td>\n",
              "            <td>192.126</td>\n",
              "            <td>177.13799999999998</td>\n",
              "            <td>166.93</td>\n",
              "        </tr>\n",
              "    </tbody>\n",
              "</table>"
            ]
          },
          "metadata": {},
          "execution_count": 22
        }
      ]
    },
    {
      "cell_type": "code",
      "source": [
        "%%sql\n",
        "-- Calculate average oil prices in Tanzania\n",
        "SELECT 'Tanzania' AS Country,\n",
        "       AVG(Petrol) AS AvgPetrol_Tanzania,\n",
        "       AVG(Diesel) AS AvgDiesel_Tanzania,\n",
        "       AVG(Kerosene) AS AvgKerosene_Tanzania\n",
        "FROM TZFuelPrices;"
      ],
      "metadata": {
        "colab": {
          "base_uri": "https://localhost:8080/",
          "height": 96
        },
        "id": "3vwy9k75HrWa",
        "outputId": "b36a39fb-aec4-4e08-f1ff-4dbdd41fdde0"
      },
      "execution_count": 23,
      "outputs": [
        {
          "output_type": "stream",
          "name": "stdout",
          "text": [
            " * sqlite:///OilPrices.db\n",
            "Done.\n"
          ]
        },
        {
          "output_type": "execute_result",
          "data": {
            "text/plain": [
              "[('Tanzania', 3354.0, 3521.0, 3016.2)]"
            ],
            "text/html": [
              "<table>\n",
              "    <thead>\n",
              "        <tr>\n",
              "            <th>Country</th>\n",
              "            <th>AvgPetrol_Tanzania</th>\n",
              "            <th>AvgDiesel_Tanzania</th>\n",
              "            <th>AvgKerosene_Tanzania</th>\n",
              "        </tr>\n",
              "    </thead>\n",
              "    <tbody>\n",
              "        <tr>\n",
              "            <td>Tanzania</td>\n",
              "            <td>3354.0</td>\n",
              "            <td>3521.0</td>\n",
              "            <td>3016.2</td>\n",
              "        </tr>\n",
              "    </tbody>\n",
              "</table>"
            ]
          },
          "metadata": {},
          "execution_count": 23
        }
      ]
    },
    {
      "cell_type": "code",
      "source": [
        "%%sql\n",
        "\n",
        "-- Compare oil prices between Kenya and Tanzania\n",
        "SELECT 'Super Petrol' AS FuelType,\n",
        "       AVG(SuperPetrol) AS AvgPrice_Kenya,\n",
        "       (SELECT AVG(Petrol) FROM TZFuelPrices) AS AvgPrice_Tanzania\n",
        "FROM FuelPrices\n",
        "UNION\n",
        "SELECT 'Diesel' AS FuelType,\n",
        "       AVG(Diesel) AS AvgPrice_Kenya,\n",
        "       (SELECT AVG(Diesel) FROM TZFuelPrices) AS AvgPrice_Tanzania\n",
        "FROM FuelPrices\n",
        "UNION\n",
        "SELECT 'Kerosene' AS FuelType,\n",
        "       AVG(Kerosene) AS AvgPrice_Kenya,\n",
        "       (SELECT AVG(Kerosene) FROM TZFuelPrices) AS AvgPrice_Tanzania\n",
        "FROM FuelPrices;\n"
      ],
      "metadata": {
        "colab": {
          "base_uri": "https://localhost:8080/",
          "height": 139
        },
        "id": "v98te-oFJg5F",
        "outputId": "f7e22359-6de6-4410-8ac6-1a72a114bc70"
      },
      "execution_count": 24,
      "outputs": [
        {
          "output_type": "stream",
          "name": "stdout",
          "text": [
            " * sqlite:///OilPrices.db\n",
            "Done.\n"
          ]
        },
        {
          "output_type": "execute_result",
          "data": {
            "text/plain": [
              "[('Diesel', 177.13799999999998, 3521.0),\n",
              " ('Kerosene', 166.93, 3016.2),\n",
              " ('Super Petrol', 192.126, 3354.0)]"
            ],
            "text/html": [
              "<table>\n",
              "    <thead>\n",
              "        <tr>\n",
              "            <th>FuelType</th>\n",
              "            <th>AvgPrice_Kenya</th>\n",
              "            <th>AvgPrice_Tanzania</th>\n",
              "        </tr>\n",
              "    </thead>\n",
              "    <tbody>\n",
              "        <tr>\n",
              "            <td>Diesel</td>\n",
              "            <td>177.13799999999998</td>\n",
              "            <td>3521.0</td>\n",
              "        </tr>\n",
              "        <tr>\n",
              "            <td>Kerosene</td>\n",
              "            <td>166.93</td>\n",
              "            <td>3016.2</td>\n",
              "        </tr>\n",
              "        <tr>\n",
              "            <td>Super Petrol</td>\n",
              "            <td>192.126</td>\n",
              "            <td>3354.0</td>\n",
              "        </tr>\n",
              "    </tbody>\n",
              "</table>"
            ]
          },
          "metadata": {},
          "execution_count": 24
        }
      ]
    },
    {
      "cell_type": "code",
      "source": [
        "%%sql\n",
        "\n",
        "-- Calculate oil price changes over time in Kenya\n",
        "WITH PriceChanges AS (\n",
        "    SELECT TownID AS Region,\n",
        "           StartDate,\n",
        "           EndDate,\n",
        "           SuperPetrol,\n",
        "           Diesel,\n",
        "           Kerosene,\n",
        "           LAG(SuperPetrol) OVER (PARTITION BY TownID ORDER BY StartDate) AS PreviousSuperPetrol,\n",
        "           LAG(Diesel) OVER (PARTITION BY TownID ORDER BY StartDate) AS PreviousDiesel,\n",
        "           LAG(Kerosene) OVER (PARTITION BY TownID ORDER BY StartDate) AS PreviousKerosene\n",
        "    FROM FuelPrices\n",
        ")\n",
        "SELECT Region,\n",
        "       StartDate,\n",
        "       SuperPetrol,\n",
        "       SuperPetrol - PreviousSuperPetrol AS SuperPetrolPriceChange,\n",
        "       Diesel,\n",
        "       Diesel - PreviousDiesel AS DieselPriceChange,\n",
        "       Kerosene,\n",
        "       Kerosene - PreviousKerosene AS KerosenePriceChange\n",
        "FROM PriceChanges;\n"
      ],
      "metadata": {
        "colab": {
          "base_uri": "https://localhost:8080/",
          "height": 182
        },
        "id": "BB5ANSRxKLAj",
        "outputId": "bc91bb72-70a6-4e0c-dd2e-9fe404d7c49d"
      },
      "execution_count": 25,
      "outputs": [
        {
          "output_type": "stream",
          "name": "stdout",
          "text": [
            " * sqlite:///OilPrices.db\n",
            "Done.\n"
          ]
        },
        {
          "output_type": "execute_result",
          "data": {
            "text/plain": [
              "[(1, '2023-07-15', 191.62, None, 176.63, None, 166.43, None),\n",
              " (2, '2023-07-15', 192.39, None, 177.4, None, 167.19, None),\n",
              " (3, '2023-07-15', 192, None, 177.02, None, 166.81, None),\n",
              " (4, '2023-07-15', 192, None, 177.02, None, 166.81, None),\n",
              " (5, '2023-07-15', 192.62, None, 177.62, None, 167.41, None)]"
            ],
            "text/html": [
              "<table>\n",
              "    <thead>\n",
              "        <tr>\n",
              "            <th>Region</th>\n",
              "            <th>StartDate</th>\n",
              "            <th>SuperPetrol</th>\n",
              "            <th>SuperPetrolPriceChange</th>\n",
              "            <th>Diesel</th>\n",
              "            <th>DieselPriceChange</th>\n",
              "            <th>Kerosene</th>\n",
              "            <th>KerosenePriceChange</th>\n",
              "        </tr>\n",
              "    </thead>\n",
              "    <tbody>\n",
              "        <tr>\n",
              "            <td>1</td>\n",
              "            <td>2023-07-15</td>\n",
              "            <td>191.62</td>\n",
              "            <td>None</td>\n",
              "            <td>176.63</td>\n",
              "            <td>None</td>\n",
              "            <td>166.43</td>\n",
              "            <td>None</td>\n",
              "        </tr>\n",
              "        <tr>\n",
              "            <td>2</td>\n",
              "            <td>2023-07-15</td>\n",
              "            <td>192.39</td>\n",
              "            <td>None</td>\n",
              "            <td>177.4</td>\n",
              "            <td>None</td>\n",
              "            <td>167.19</td>\n",
              "            <td>None</td>\n",
              "        </tr>\n",
              "        <tr>\n",
              "            <td>3</td>\n",
              "            <td>2023-07-15</td>\n",
              "            <td>192</td>\n",
              "            <td>None</td>\n",
              "            <td>177.02</td>\n",
              "            <td>None</td>\n",
              "            <td>166.81</td>\n",
              "            <td>None</td>\n",
              "        </tr>\n",
              "        <tr>\n",
              "            <td>4</td>\n",
              "            <td>2023-07-15</td>\n",
              "            <td>192</td>\n",
              "            <td>None</td>\n",
              "            <td>177.02</td>\n",
              "            <td>None</td>\n",
              "            <td>166.81</td>\n",
              "            <td>None</td>\n",
              "        </tr>\n",
              "        <tr>\n",
              "            <td>5</td>\n",
              "            <td>2023-07-15</td>\n",
              "            <td>192.62</td>\n",
              "            <td>None</td>\n",
              "            <td>177.62</td>\n",
              "            <td>None</td>\n",
              "            <td>167.41</td>\n",
              "            <td>None</td>\n",
              "        </tr>\n",
              "    </tbody>\n",
              "</table>"
            ]
          },
          "metadata": {},
          "execution_count": 25
        }
      ]
    },
    {
      "cell_type": "code",
      "source": [
        "%%sql\n",
        "\n",
        "-- Calculate oil price disparities between Kenyan towns\n",
        "WITH PriceDisparities AS (\n",
        "    SELECT TownID AS Region,\n",
        "           StartDate,\n",
        "           SuperPetrol,\n",
        "           Diesel,\n",
        "           Kerosene,\n",
        "           MAX(SuperPetrol) OVER (PARTITION BY StartDate) - MIN(SuperPetrol) OVER (PARTITION BY StartDate) AS SuperPetrolDisparity,\n",
        "           MAX(Diesel) OVER (PARTITION BY StartDate) - MIN(Diesel) OVER (PARTITION BY StartDate) AS DieselDisparity,\n",
        "           MAX(Kerosene) OVER (PARTITION BY StartDate) - MIN(Kerosene) OVER (PARTITION BY StartDate) AS KeroseneDisparity\n",
        "    FROM FuelPrices\n",
        ")\n",
        "SELECT Region,\n",
        "       StartDate,\n",
        "       SuperPetrolDisparity,\n",
        "       DieselDisparity,\n",
        "       KeroseneDisparity\n",
        "FROM PriceDisparities;\n"
      ],
      "metadata": {
        "colab": {
          "base_uri": "https://localhost:8080/",
          "height": 182
        },
        "id": "gHvi_asrhL4n",
        "outputId": "d17654e8-31ae-47ff-fcf3-2c5fa225ba6b"
      },
      "execution_count": 26,
      "outputs": [
        {
          "output_type": "stream",
          "name": "stdout",
          "text": [
            " * sqlite:///OilPrices.db\n",
            "Done.\n"
          ]
        },
        {
          "output_type": "execute_result",
          "data": {
            "text/plain": [
              "[(1, '2023-07-15', 1.0, 0.9900000000000091, 0.9799999999999898),\n",
              " (2, '2023-07-15', 1.0, 0.9900000000000091, 0.9799999999999898),\n",
              " (3, '2023-07-15', 1.0, 0.9900000000000091, 0.9799999999999898),\n",
              " (4, '2023-07-15', 1.0, 0.9900000000000091, 0.9799999999999898),\n",
              " (5, '2023-07-15', 1.0, 0.9900000000000091, 0.9799999999999898)]"
            ],
            "text/html": [
              "<table>\n",
              "    <thead>\n",
              "        <tr>\n",
              "            <th>Region</th>\n",
              "            <th>StartDate</th>\n",
              "            <th>SuperPetrolDisparity</th>\n",
              "            <th>DieselDisparity</th>\n",
              "            <th>KeroseneDisparity</th>\n",
              "        </tr>\n",
              "    </thead>\n",
              "    <tbody>\n",
              "        <tr>\n",
              "            <td>1</td>\n",
              "            <td>2023-07-15</td>\n",
              "            <td>1.0</td>\n",
              "            <td>0.9900000000000091</td>\n",
              "            <td>0.9799999999999898</td>\n",
              "        </tr>\n",
              "        <tr>\n",
              "            <td>2</td>\n",
              "            <td>2023-07-15</td>\n",
              "            <td>1.0</td>\n",
              "            <td>0.9900000000000091</td>\n",
              "            <td>0.9799999999999898</td>\n",
              "        </tr>\n",
              "        <tr>\n",
              "            <td>3</td>\n",
              "            <td>2023-07-15</td>\n",
              "            <td>1.0</td>\n",
              "            <td>0.9900000000000091</td>\n",
              "            <td>0.9799999999999898</td>\n",
              "        </tr>\n",
              "        <tr>\n",
              "            <td>4</td>\n",
              "            <td>2023-07-15</td>\n",
              "            <td>1.0</td>\n",
              "            <td>0.9900000000000091</td>\n",
              "            <td>0.9799999999999898</td>\n",
              "        </tr>\n",
              "        <tr>\n",
              "            <td>5</td>\n",
              "            <td>2023-07-15</td>\n",
              "            <td>1.0</td>\n",
              "            <td>0.9900000000000091</td>\n",
              "            <td>0.9799999999999898</td>\n",
              "        </tr>\n",
              "    </tbody>\n",
              "</table>"
            ]
          },
          "metadata": {},
          "execution_count": 26
        }
      ]
    },
    {
      "cell_type": "code",
      "source": [
        "%%sql\n",
        "\n",
        "CREATE TABLE InflationRates (\n",
        "    InflationRateID INT PRIMARY KEY,\n",
        "    Country CHAR(2) NOT NULL,\n",
        "    InflationDate DATE NOT NULL,\n",
        "    InflationRate DECIMAL(10, 2) NOT NULL\n",
        ");\n"
      ],
      "metadata": {
        "colab": {
          "base_uri": "https://localhost:8080/"
        },
        "id": "m_4tLHgBlDZX",
        "outputId": "58dc4dff-6568-4497-cde8-ff24bd4bf94d"
      },
      "execution_count": 27,
      "outputs": [
        {
          "output_type": "stream",
          "name": "stdout",
          "text": [
            " * sqlite:///OilPrices.db\n",
            "Done.\n"
          ]
        },
        {
          "output_type": "execute_result",
          "data": {
            "text/plain": [
              "[]"
            ]
          },
          "metadata": {},
          "execution_count": 27
        }
      ]
    },
    {
      "cell_type": "code",
      "source": [
        "%%sql\n",
        "\n",
        "SELECT\n",
        "    A.InflationDate,\n",
        "    A.InflationRate AS InflationRate_Kenya,\n",
        "    B.InflationRate AS InflationRate_Tanzania,\n",
        "    A.InflationRate - B.InflationRate AS InflationRate_Difference\n",
        "FROM InflationRates A\n",
        "INNER JOIN InflationRates B\n",
        "    ON A.InflationDate = B.InflationDate\n",
        "    AND A.Country = 'KE'\n",
        "    AND B.Country = 'TZ';\n",
        "\n"
      ],
      "metadata": {
        "colab": {
          "base_uri": "https://localhost:8080/",
          "height": 77
        },
        "id": "U6Up8eVfl9da",
        "outputId": "080b1e86-76ce-4e16-98d6-2fbc2ad4e587"
      },
      "execution_count": 28,
      "outputs": [
        {
          "output_type": "stream",
          "name": "stdout",
          "text": [
            " * sqlite:///OilPrices.db\n",
            "Done.\n"
          ]
        },
        {
          "output_type": "execute_result",
          "data": {
            "text/plain": [
              "[]"
            ],
            "text/html": [
              "<table>\n",
              "    <thead>\n",
              "        <tr>\n",
              "            <th>InflationDate</th>\n",
              "            <th>InflationRate_Kenya</th>\n",
              "            <th>InflationRate_Tanzania</th>\n",
              "            <th>InflationRate_Difference</th>\n",
              "        </tr>\n",
              "    </thead>\n",
              "    <tbody>\n",
              "    </tbody>\n",
              "</table>"
            ]
          },
          "metadata": {},
          "execution_count": 28
        }
      ]
    },
    {
      "cell_type": "code",
      "source": [],
      "metadata": {
        "id": "dm70FuVprYDq"
      },
      "execution_count": null,
      "outputs": []
    }
  ]
}